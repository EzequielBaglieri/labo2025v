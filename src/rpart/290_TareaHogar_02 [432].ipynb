{
  "nbformat": 4,
  "nbformat_minor": 0,
  "metadata": {
    "colab": {
      "provenance": [],
      "include_colab_link": true
    },
    "kernelspec": {
      "name": "ir",
      "display_name": "R"
    },
    "language_info": {
      "name": "R"
    }
  },
  "cells": [
    {
      "cell_type": "markdown",
      "metadata": {
        "id": "view-in-github",
        "colab_type": "text"
      },
      "source": [
        "<a href=\"https://colab.research.google.com/github/EzequielBaglieri/labo2025v/blob/main/src/rpart/290_TareaHogar_02%20%5B432%5D.ipynb\" target=\"_parent\"><img src=\"https://colab.research.google.com/assets/colab-badge.svg\" alt=\"Open In Colab\"/></a>"
      ]
    },
    {
      "cell_type": "markdown",
      "source": [
        "# Tarea para el Hogar 02"
      ],
      "metadata": {
        "id": "F3r8aa3pBigj"
      }
    },
    {
      "cell_type": "markdown",
      "source": [
        "Esta Tarea para el Hogar 02 se entrega el final de la segunda clase\n",
        "<br> se espera de usted que intente avanzar con los desafios propuestos y que los traiga terminados para la Clase 03, ya que se analizarán los resultados"
      ],
      "metadata": {
        "id": "nBm4ktHUBmZt"
      }
    },
    {
      "cell_type": "markdown",
      "source": [
        "##  1. Ensembles de Modelos"
      ],
      "metadata": {
        "id": "TK-M04ElCESC"
      }
    },
    {
      "cell_type": "markdown",
      "source": [
        "Vea el siguiente video [BBC - The Code - The Wisdom of the Crowd](https://www.youtube.com/watch?v=iOucwX7Z1HU)    ( 5 min)\n"
      ],
      "metadata": {
        "id": "biPYxgobCOSS"
      }
    },
    {
      "cell_type": "markdown",
      "source": [
        "Lea los siguientes artículos\n",
        "\n",
        "\n",
        "*   [The Wisdom of Crowds (Vox Populi) by Francis Galton](https://www.all-about-psychology.com/the-wisdom-of-crowds.html)  (10 min)\n",
        "*   [A Gentle Introduction to Ensemble Learning](https://machinelearningmastery.com/what-is-ensemble-learning/)  (10 min)\n",
        "\n"
      ],
      "metadata": {
        "id": "FBszBRyNCcjp"
      }
    },
    {
      "cell_type": "markdown",
      "source": [
        "\n",
        "\n",
        "---\n",
        "\n"
      ],
      "metadata": {
        "id": "x7SebtV2lpHQ"
      }
    },
    {
      "cell_type": "markdown",
      "source": [
        "##  2.  Zero2Hero   primera parte\n",
        "Se han lanzado los primeros fascículos coleccionables llamados \"from Zero to Hero\" que muy detalladamente, paso a paso enseñan todo lo necesario de R para entender los scripts oficiales de la asignatura.\n",
        "Están en el repositorio oficial de la asignatura, carpeta  **src/zero2hero**"
      ],
      "metadata": {
        "id": "NQcY8u2MDSLT"
      }
    },
    {
      "cell_type": "markdown",
      "source": [
        "\n",
        "\n",
        "---\n",
        "\n"
      ],
      "metadata": {
        "id": "GcO0OSiIEAGy"
      }
    },
    {
      "cell_type": "markdown",
      "source": [
        "## 3.  Grid Search"
      ],
      "metadata": {
        "id": "6MStcyn0EBdT"
      }
    },
    {
      "cell_type": "markdown",
      "source": [
        "Busque en internet el precido significado de los hiperparámetros de la librería **rpart**  que está implementando el algoritmo **CART**  Classification and Regression Trees  propuesto en el año 1984 por Leo Brieman:\n",
        "\n",
        "*   cp\n",
        "*   maxdepth\n",
        "*   minsplit\n",
        "*   minbucket\n",
        "\n",
        "Entienda que valores es razonable tome cada hiperparámetro,  en particular profundice en el hiperparámetro  **cp**  y la posibilidad que tome valores negativos.  Es válido consultar a su amigo de *capacidades especiales*  ChatGPT\n"
      ],
      "metadata": {
        "id": "gM8RKXDgEIY0"
      }
    },
    {
      "cell_type": "markdown",
      "source": [
        "En las siguientes celdas a un notebook incompleto, un esqueleto de codigo brindado a modo de facilitarle la tarea de codeo y permitir que su valiosa cognición se concentre temas conceptuales de Ciencia de Datos\n",
        "\n",
        "Modifiquelo agregando loops para que recorra TODOS los hiperparámetros de rpart  < cp, maxdepth, minsplit, minbucket >, y luego póngalo a correr. Recuerde cambiar por SU semilla\n",
        "Tenga muy presente la granularidad que eligirá para cada hiperparámetro."
      ],
      "metadata": {
        "id": "_k7eT3HIFy9y"
      }
    },
    {
      "cell_type": "markdown",
      "source": [
        "### Seteo del ambiente en Google Colab"
      ],
      "metadata": {
        "id": "kmLygy1TYPfg"
      }
    },
    {
      "cell_type": "markdown",
      "source": [
        "Esta parte se debe correr con el runtime en Python3\n",
        "<br>Ir al menu, Runtime -> Change Runtime Tipe -> Runtime type ->  **Python 3**"
      ],
      "metadata": {
        "id": "OikOm5K2YU3X"
      }
    },
    {
      "cell_type": "markdown",
      "source": [
        "Conectar la virtual machine donde esta corriendo Google Colab con el  Google Drive, para poder tener persistencia de archivos"
      ],
      "metadata": {
        "id": "4fmV5LyZdFyI"
      }
    },
    {
      "cell_type": "code",
      "source": [
        "# primero establecer el Runtime de Python 3\n",
        "from google.colab import drive\n",
        "drive.mount('/content/.drive')"
      ],
      "metadata": {
        "id": "ilEZ-bE2VybW",
        "outputId": "b94f2478-84e5-48fa-f214-90e5baf5c5f4",
        "colab": {
          "base_uri": "https://localhost:8080/"
        }
      },
      "execution_count": 1,
      "outputs": [
        {
          "output_type": "stream",
          "name": "stdout",
          "text": [
            "Mounted at /content/.drive\n"
          ]
        }
      ]
    },
    {
      "cell_type": "markdown",
      "source": [
        "Para correr la siguiente celda es fundamental en Arranque en Frio haber copiado el archivo kaggle.json al Google Drive, en la carpeta indicada en el instructivo\n",
        "\n",
        "<br>los siguientes comando estan en shell script de Linux\n",
        "*   Crear las carpetas en el Google Drive\n",
        "*   \"instalar\" el archivo kaggle.json desde el Google Drive a la virtual machine para que pueda ser utilizado por la libreria  kaggle de Python\n",
        "*   Bajar el  **dataset_pequeno**  al  Google Drive  y tambien al disco local de la virtual machine que esta corriendo Google Colab\n",
        "\n"
      ],
      "metadata": {
        "id": "ilaKtqWldeWg"
      }
    },
    {
      "cell_type": "code",
      "source": [
        "%%shell\n",
        "\n",
        "mkdir -p \"/content/.drive/My Drive/labo1\"\n",
        "mkdir -p \"/content/buckets\"\n",
        "ln -s \"/content/.drive/My Drive/labo1\" /content/buckets/b1\n",
        "\n",
        "mkdir -p ~/.kaggle\n",
        "cp /content/buckets/b1/kaggle/kaggle.json  ~/.kaggle\n",
        "chmod 600 ~/.kaggle/kaggle.json\n",
        "\n",
        "\n",
        "mkdir -p /content/buckets/b1/exp\n",
        "mkdir -p /content/buckets/b1/datasets\n",
        "mkdir -p /content/datasets\n",
        "\n",
        "\n",
        "\n",
        "archivo_origen=\"https://storage.googleapis.com/open-courses/austral2025-af91/dataset_pequeno.csv\"\n",
        "archivo_destino=\"/content/datasets/dataset_pequeno.csv\"\n",
        "archivo_destino_bucket=\"/content/buckets/b1/datasets/dataset_pequeno.csv\"\n",
        "\n",
        "if ! test -f $archivo_destino_bucket; then\n",
        "  wget  $archivo_origen  -O $archivo_destino_bucket\n",
        "fi\n",
        "\n",
        "\n",
        "if ! test -f $archivo_destino; then\n",
        "  cp  $archivo_destino_bucket  $archivo_destino\n",
        "fi\n",
        "\n"
      ],
      "metadata": {
        "id": "W8dQFI5QYCFa",
        "outputId": "fb4cfea8-ad29-4c88-fd34-075926ae8635",
        "colab": {
          "base_uri": "https://localhost:8080/"
        }
      },
      "execution_count": 2,
      "outputs": [
        {
          "output_type": "execute_result",
          "data": {
            "text/plain": []
          },
          "metadata": {},
          "execution_count": 2
        }
      ]
    },
    {
      "cell_type": "markdown",
      "source": [
        "limpio el ambiente de R"
      ],
      "metadata": {
        "id": "SE94XRhWsxkX"
      }
    },
    {
      "cell_type": "code",
      "source": [
        "# limpio la memoria\n",
        "rm(list=ls(all.names=TRUE)) # remove all objects\n",
        "gc(full=TRUE, verbose=FALSE) # garbage collection"
      ],
      "metadata": {
        "id": "oZG_4br6szlT",
        "outputId": "7b355227-8e41-4d6c-ffde-c237e32b67ba",
        "colab": {
          "base_uri": "https://localhost:8080/",
          "height": 129
        }
      },
      "execution_count": 1,
      "outputs": [
        {
          "output_type": "display_data",
          "data": {
            "text/html": [
              "<table class=\"dataframe\">\n",
              "<caption>A matrix: 2 × 6 of type dbl</caption>\n",
              "<thead>\n",
              "\t<tr><th></th><th scope=col>used</th><th scope=col>(Mb)</th><th scope=col>gc trigger</th><th scope=col>(Mb)</th><th scope=col>max used</th><th scope=col>(Mb)</th></tr>\n",
              "</thead>\n",
              "<tbody>\n",
              "\t<tr><th scope=row>Ncells</th><td> 657245</td><td>35.2</td><td>1454454</td><td>77.7</td><td>1326119</td><td>70.9</td></tr>\n",
              "\t<tr><th scope=row>Vcells</th><td>1220272</td><td> 9.4</td><td>8388608</td><td>64.0</td><td>1975127</td><td>15.1</td></tr>\n",
              "</tbody>\n",
              "</table>\n"
            ],
            "text/markdown": "\nA matrix: 2 × 6 of type dbl\n\n| <!--/--> | used | (Mb) | gc trigger | (Mb) | max used | (Mb) |\n|---|---|---|---|---|---|---|\n| Ncells |  657245 | 35.2 | 1454454 | 77.7 | 1326119 | 70.9 |\n| Vcells | 1220272 |  9.4 | 8388608 | 64.0 | 1975127 | 15.1 |\n\n",
            "text/latex": "A matrix: 2 × 6 of type dbl\n\\begin{tabular}{r|llllll}\n  & used & (Mb) & gc trigger & (Mb) & max used & (Mb)\\\\\n\\hline\n\tNcells &  657245 & 35.2 & 1454454 & 77.7 & 1326119 & 70.9\\\\\n\tVcells & 1220272 &  9.4 & 8388608 & 64.0 & 1975127 & 15.1\\\\\n\\end{tabular}\n",
            "text/plain": [
              "       used    (Mb) gc trigger (Mb) max used (Mb)\n",
              "Ncells  657245 35.2 1454454    77.7 1326119  70.9\n",
              "Vcells 1220272  9.4 8388608    64.0 1975127  15.1"
            ]
          },
          "metadata": {}
        }
      ]
    },
    {
      "cell_type": "code",
      "source": [
        "# cargo las librerias que necesito\n",
        "require(\"data.table\")\n",
        "require(\"rpart\")\n",
        "require(\"parallel\")\n",
        "if (!require(\"primes\")) install.packages(\"primes\")\n",
        "require(\"primes\")"
      ],
      "metadata": {
        "id": "JO-12d7YHkWy",
        "colab": {
          "base_uri": "https://localhost:8080/"
        },
        "outputId": "21b20f50-9184-4b46-a5dc-4bb0bb29524d"
      },
      "execution_count": 2,
      "outputs": [
        {
          "output_type": "stream",
          "name": "stderr",
          "text": [
            "Loading required package: data.table\n",
            "\n",
            "Loading required package: rpart\n",
            "\n",
            "Loading required package: parallel\n",
            "\n",
            "Loading required package: primes\n",
            "\n",
            "Warning message in library(package, lib.loc = lib.loc, character.only = TRUE, logical.return = TRUE, :\n",
            "“there is no package called ‘primes’”\n",
            "Installing package into ‘/usr/local/lib/R/site-library’\n",
            "(as ‘lib’ is unspecified)\n",
            "\n",
            "Loading required package: primes\n",
            "\n"
          ]
        }
      ]
    },
    {
      "cell_type": "markdown",
      "source": [
        "Aqui debe poner SU semiila primigenia"
      ],
      "metadata": {
        "id": "0MclPEJ6Q8Bp"
      }
    },
    {
      "cell_type": "code",
      "source": [
        "PARAM <- list()\n",
        "# reemplazar por su primer semilla\n",
        "PARAM$semilla_primigenia <- 700001\n",
        "PARAM$qsemillas <- 1\n",
        "\n",
        "PARAM$training_pct <- 70L  # entre  1L y 99L\n",
        "\n",
        "# elegir SU dataset comentando/ descomentando\n",
        "PARAM$dataset_nom <- \"~/datasets/dataset_pequeno.csv\""
      ],
      "metadata": {
        "id": "Vt5fC6bWHu5r"
      },
      "execution_count": 3,
      "outputs": []
    },
    {
      "cell_type": "code",
      "source": [
        "# particionar agrega una columna llamada fold a un dataset\n",
        "#  que consiste en una particion estratificada segun agrupa\n",
        "# particionar( data=dataset, division=c(70,30), agrupa=clase_ternaria, seed=semilla)\n",
        "#   crea una particion 70, 30\n",
        "\n",
        "particionar <- function(data, division, agrupa = \"\", campo = \"fold\", start = 1, seed = NA) {\n",
        "  if (!is.na(seed)) set.seed(seed)\n",
        "\n",
        "  bloque <- unlist(mapply(function(x, y) {\n",
        "    rep(y, x)\n",
        "  }, division, seq(from = start, length.out = length(division))))\n",
        "\n",
        "  data[, (campo) := sample(rep(bloque, ceiling(.N / length(bloque))))[1:.N],\n",
        "    by = agrupa\n",
        "  ]\n",
        "}\n"
      ],
      "metadata": {
        "id": "Z1dchsrWH4MD"
      },
      "execution_count": 4,
      "outputs": []
    },
    {
      "cell_type": "code",
      "source": [
        "ArbolEstimarGanancia <- function(semilla, training_pct, param_basicos) {\n",
        "  # particiono estratificadamente el dataset\n",
        "  particionar(dataset,\n",
        "    division = c(training_pct, 100L -training_pct),\n",
        "    agrupa = \"clase_ternaria\",\n",
        "    seed = semilla # aqui se usa SU semilla\n",
        "  )\n",
        "\n",
        "  # genero el modelo\n",
        "  # predecir clase_ternaria a partir del resto\n",
        "  modelo <- rpart(\"clase_ternaria ~ .\",\n",
        "    data = dataset[fold == 1], # fold==1  es training,  el 70% de los datos\n",
        "    xval = 0,\n",
        "    control = param_basicos\n",
        "  ) # aqui van los parametros del arbol\n",
        "\n",
        "  # aplico el modelo a los datos de testing\n",
        "  prediccion <- predict(modelo, # el modelo que genere recien\n",
        "    dataset[fold == 2], # fold==2  es testing, el 30% de los datos\n",
        "    type = \"prob\"\n",
        "  ) # type= \"prob\"  es que devuelva la probabilidad\n",
        "\n",
        "  # prediccion es una matriz con TRES columnas,\n",
        "  #  llamadas \"BAJA+1\", \"BAJA+2\"  y \"CONTINUA\"\n",
        "  # cada columna es el vector de probabilidades\n",
        "\n",
        "\n",
        "  # calculo la ganancia en testing  qu es fold==2\n",
        "  ganancia_test <- dataset[\n",
        "    fold == 2,\n",
        "    sum(ifelse(prediccion[, \"BAJA+2\"] > 0.025,\n",
        "      ifelse(clase_ternaria == \"BAJA+2\", 117000, -3000),\n",
        "      0\n",
        "    ))\n",
        "  ]\n",
        "\n",
        "  # escalo la ganancia como si fuera todo el dataset\n",
        "  ganancia_test_normalizada <- ganancia_test / (( 100 - PARAM$training_pct ) / 100 )\n",
        "\n",
        "  return(\n",
        "    c( list(\"semilla\" = semilla),\n",
        "      param_basicos,\n",
        "      list( \"ganancia_test\" = ganancia_test_normalizada )\n",
        "     )\n",
        "  )\n",
        "}\n"
      ],
      "metadata": {
        "id": "xsHwS1CzIA70"
      },
      "execution_count": 5,
      "outputs": []
    },
    {
      "cell_type": "code",
      "source": [
        "ArbolesMontecarlo <- function(semillas, param_basicos) {\n",
        "\n",
        "  # la funcion mcmapply  llama a la funcion ArbolEstimarGanancia\n",
        "  #  tantas veces como valores tenga el vector  PARAM$semillas\n",
        "  salida <- mcmapply(ArbolEstimarGanancia,\n",
        "    semillas, # paso el vector de semillas\n",
        "    MoreArgs = list(PARAM$training_pct, param_basicos), # aqui paso el segundo parametro\n",
        "    SIMPLIFY = FALSE,\n",
        "    mc.cores = detectCores()\n",
        "  )\n",
        "\n",
        "  return(salida)\n",
        "}\n"
      ],
      "metadata": {
        "id": "BvBVOuhqIEjD"
      },
      "execution_count": 6,
      "outputs": []
    },
    {
      "cell_type": "code",
      "source": [
        "# carpeta de trabajo\n",
        "# por fabor cambiar numero de experimento si se cambia el loop principal\n",
        "setwd(\"/content/buckets/b1/exp\")\n",
        "experimento <- \"HT2903\"\n",
        "dir.create(experimento, showWarnings=FALSE)\n",
        "setwd( paste0(\"/content/buckets/b1/exp/\", experimento ))"
      ],
      "metadata": {
        "id": "L-DOGHOjIG7G"
      },
      "execution_count": 7,
      "outputs": []
    },
    {
      "cell_type": "code",
      "source": [
        "# lectura del dataset\n",
        "dataset <- fread(\"/content/datasets/dataset_pequeno.csv\")\n",
        "\n",
        "# trabajo solo con los datos con clase, es decir 202107\n",
        "dataset <- dataset[clase_ternaria != \"\"]"
      ],
      "metadata": {
        "id": "NM-mrLWcIPo6"
      },
      "execution_count": 8,
      "outputs": []
    },
    {
      "cell_type": "code",
      "source": [
        "\n",
        "# genero numeros primos\n",
        "primos <- generate_primes(min = 100000, max = 1000000)\n",
        "set.seed(PARAM$semilla_primigenia) # inicializo\n",
        "# me quedo con PARAM$qsemillas   semillas\n",
        "PARAM$semillas <- sample(primos, PARAM$qsemillas )\n"
      ],
      "metadata": {
        "id": "tSlY0EcgIWdi"
      },
      "execution_count": 9,
      "outputs": []
    },
    {
      "cell_type": "code",
      "source": [
        "# genero la data.table donde van los resultados detallados del Grid Search\n",
        "# un registro para cada combinacion de < semilla, parametros >\n",
        "\n",
        "if(file.exists(\"gridsearch_detalle.txt\")){\n",
        "  tb_grid_search_detalle <- fread(\"gridsearch_detalle.txt\")\n",
        "}else{\n",
        "  tb_grid_search_detalle <- data.table(\n",
        "    semilla = integer(),\n",
        "    cp = numeric(),\n",
        "    maxdepth = integer(),\n",
        "   minsplit = integer(),\n",
        "    minbucket = integer(),\n",
        "    ganancia_test = numeric()\n",
        "  )\n",
        "}\n",
        "\n",
        "nrow( tb_grid_search_detalle )"
      ],
      "metadata": {
        "id": "xxCAwIKyIaTl",
        "outputId": "61001890-dbc6-4677-c520-dc1a610741e3",
        "colab": {
          "base_uri": "https://localhost:8080/",
          "height": 34
        }
      },
      "execution_count": 10,
      "outputs": [
        {
          "output_type": "display_data",
          "data": {
            "text/html": [
              "0"
            ],
            "text/markdown": "0",
            "text/latex": "0",
            "text/plain": [
              "[1] 0"
            ]
          },
          "metadata": {}
        }
      ]
    },
    {
      "cell_type": "markdown",
      "source": [
        "Esta es la parte del código que usted debe expandir a TODOS los hiperparámetros de rpart,\n",
        "<br>ya que actualmente apenas recorre  maxdepth y  minsplit  dejando fijos  cp=-0.5  y minbucket=5"
      ],
      "metadata": {
        "id": "eAuGBNL8IkOD"
      }
    },
    {
      "cell_type": "code",
      "source": [
        "# itero por los loops anidados para cada hiperparametro\n",
        "iter <- 0\n",
        "\n",
        "# LOOP 1: Complexity Parameter (cp)\n",
        "for (vcp in c(-1, 0.0005, 0.005, 0.05)) {\n",
        "\n",
        "  # LOOP 2: Minimum Bucket Size (minbucket)\n",
        "  for (vmin_bucket in c(5,3,2)) {\n",
        "\n",
        "    # LOOP 3: Maximum Depth (maxdepth)\n",
        "    for (vmax_depth in c(4, 6, 8, 10, 12, 14)) {\n",
        "\n",
        "      # LOOP 4: Minimum Split Size (minsplit)\n",
        "      for (vmin_split in c(1000, 800, 600, 400, 200, 100, 50, 20, 10)) {\n",
        "\n",
        "        # Notar que la iteración total es ahora 4 * 3 * 6 * 5 = 432\n",
        "        iter <- iter + 1\n",
        "        cat( iter, \" \" )\n",
        "        flush.console()\n",
        "        if( iter*PARAM$qsemillas < nrow(tb_grid_search_detalle)+1 ) next\n",
        "\n",
        "        # Definición de Hiperparámetros\n",
        "        param_basicos <- list(\n",
        "          \"cp\" = vcp,             # Ahora iterando sobre 0.0001 y 0.01\n",
        "          \"maxdepth\" = vmax_depth,\n",
        "          \"minsplit\" = vmin_split,\n",
        "          \"minbucket\" = vmin_bucket # Ahora iterando sobre 5 y 20\n",
        "        )\n",
        "\n",
        "        # Un solo llamado, con la semilla 17\n",
        "        ganancias <- ArbolesMontecarlo(PARAM$semillas, param_basicos)\n",
        "\n",
        "        # agrego a la tabla\n",
        "        tb_grid_search_detalle <- rbindlist(\n",
        "          list( tb_grid_search_detalle,\n",
        "                rbindlist(ganancias) )\n",
        "        )\n",
        "\n",
        "      } # Fin Loop minsplit\n",
        "\n",
        "    } # Fin Loop maxdepth\n",
        "\n",
        "    # IMPORTANTE: El guardado ocurre aquí, después de completar todas las combinaciones de minsplit y maxdepth\n",
        "    # para un valor específico de CP y MINBUCKET.\n",
        "\n",
        "    # grabo cada vez TODA la tabla en el loop mas externo\n",
        "    fwrite( tb_grid_search_detalle,\n",
        "            file = \"gridsearch_detalle.txt\",\n",
        "            sep = \"\\t\" )\n",
        "\n",
        "  } # Fin Loop minbucket\n",
        "\n",
        "} # Fin Loop cp"
      ],
      "metadata": {
        "id": "ipLHm3STIfmb",
        "outputId": "ba5ccd10-ec5d-45e0-cfa3-61b328ca7d20",
        "colab": {
          "base_uri": "https://localhost:8080/"
        }
      },
      "execution_count": 11,
      "outputs": [
        {
          "output_type": "stream",
          "name": "stdout",
          "text": [
            "1  2  3  4  5  6  7  8  9  10  11  12  13  14  15  16  17  18  19  20  21  22  23  24  25  26  27  28  29  30  31  32  33  34  35  36  37  38  39  40  41  42  43  44  45  46  47  48  49  50  51  52  53  54  55  56  57  58  59  60  61  62  63  64  65  66  67  68  69  70  71  72  73  74  75  76  77  78  79  80  81  82  83  84  85  86  87  88  89  90  91  92  93  94  95  96  97  98  99  100  101  102  103  104  105  106  107  108  109  110  111  112  113  114  115  116  117  118  119  120  121  122  123  124  125  126  127  128  129  130  131  132  133  134  135  136  137  138  139  140  141  142  143  144  145  146  147  148  149  150  151  152  153  154  155  156  157  158  159  160  161  162  163  164  165  166  167  168  169  170  171  172  173  174  175  176  177  178  179  180  181  182  183  184  185  186  187  188  189  190  191  192  193  194  195  196  197  198  199  200  201  202  203  204  205  206  207  208  209  210  211  212  213  214  215  216  217  218  219  220  221  222  223  224  225  226  227  228  229  230  231  232  233  234  235  236  237  238  239  240  241  242  243  244  245  246  247  248  249  250  251  252  253  254  255  256  257  258  259  260  261  262  263  264  265  266  267  268  269  270  271  272  273  274  275  276  277  278  279  280  281  282  283  284  285  286  287  288  289  290  291  292  293  294  295  296  297  298  299  300  301  302  303  304  305  306  307  308  309  310  311  312  313  314  315  316  317  318  319  320  321  322  323  324  325  326  327  328  329  330  331  332  333  334  335  336  337  338  339  340  341  342  343  344  345  346  347  348  349  350  351  352  353  354  355  356  357  358  359  360  361  362  363  364  365  366  367  368  369  370  371  372  373  374  375  376  377  378  379  380  381  382  383  384  385  386  387  388  389  390  391  392  393  394  395  396  397  398  399  400  401  402  403  404  405  406  407  408  409  410  411  412  413  414  415  416  417  418  419  420  421  422  423  424  425  426  427  428  429  430  431  432  433  434  435  436  437  438  439  440  441  442  443  444  445  446  447  448  449  450  451  452  453  454  455  456  457  458  459  460  461  462  463  464  465  466  467  468  469  470  471  472  473  474  475  476  477  478  479  480  481  482  483  484  485  486  487  488  489  490  491  492  493  494  495  496  497  498  499  500  501  502  503  504  505  506  507  508  509  510  511  512  513  514  515  516  517  518  519  520  521  522  523  524  525  526  527  528  529  530  531  532  533  534  535  536  537  538  539  540  541  542  543  544  545  546  547  548  549  550  551  552  553  554  555  556  557  558  559  560  561  562  563  564  565  566  567  568  569  570  571  572  573  574  575  576  577  578  579  580  581  582  583  584  585  586  587  588  589  590  591  592  593  594  595  596  597  598  599  600  601  602  603  604  605  606  607  608  609  610  611  612  613  614  615  616  617  618  619  620  621  622  623  624  625  626  627  628  629  630  631  632  633  634  635  636  637  638  639  640  641  642  643  644  645  646  647  648  "
          ]
        }
      ]
    },
    {
      "cell_type": "code",
      "source": [
        "fwrite( tb_grid_search_detalle,\n",
        "   file = \"gridsearch_detalle.txt\",\n",
        "   sep = \"\\t\"\n",
        ")"
      ],
      "metadata": {
        "id": "WZaSqYBxiDFu"
      },
      "execution_count": 12,
      "outputs": []
    },
    {
      "cell_type": "code",
      "source": [
        "# cantidad de registros de la tabla\n",
        "nrow(tb_grid_search_detalle)"
      ],
      "metadata": {
        "id": "STp0duM-RYVJ",
        "outputId": "e838c5c4-2fc5-432e-df4d-a0a6fc24853b",
        "colab": {
          "base_uri": "https://localhost:8080/",
          "height": 34
        }
      },
      "execution_count": 13,
      "outputs": [
        {
          "output_type": "display_data",
          "data": {
            "text/html": [
              "648"
            ],
            "text/markdown": "648",
            "text/latex": "648",
            "text/plain": [
              "[1] 648"
            ]
          },
          "metadata": {}
        }
      ]
    },
    {
      "cell_type": "code",
      "source": [
        "# muestro la tabla\n",
        "tb_grid_search_detalle"
      ],
      "metadata": {
        "id": "k7fhk_H0iNez",
        "outputId": "f2fa6461-cc10-4e75-9b0c-91a9572883b2",
        "colab": {
          "base_uri": "https://localhost:8080/",
          "height": 1000
        }
      },
      "execution_count": 14,
      "outputs": [
        {
          "output_type": "display_data",
          "data": {
            "text/html": [
              "<table class=\"dataframe\">\n",
              "<caption>A data.table: 648 × 6</caption>\n",
              "<thead>\n",
              "\t<tr><th scope=col>semilla</th><th scope=col>cp</th><th scope=col>maxdepth</th><th scope=col>minsplit</th><th scope=col>minbucket</th><th scope=col>ganancia_test</th></tr>\n",
              "\t<tr><th scope=col>&lt;int&gt;</th><th scope=col>&lt;dbl&gt;</th><th scope=col>&lt;dbl&gt;</th><th scope=col>&lt;dbl&gt;</th><th scope=col>&lt;dbl&gt;</th><th scope=col>&lt;dbl&gt;</th></tr>\n",
              "</thead>\n",
              "<tbody>\n",
              "\t<tr><td>445507</td><td>-1</td><td> 4</td><td>1000</td><td>5</td><td>48730000</td></tr>\n",
              "\t<tr><td>445507</td><td>-1</td><td> 4</td><td> 800</td><td>5</td><td>48500000</td></tr>\n",
              "\t<tr><td>445507</td><td>-1</td><td> 4</td><td> 600</td><td>5</td><td>48470000</td></tr>\n",
              "\t<tr><td>445507</td><td>-1</td><td> 4</td><td> 400</td><td>5</td><td>48470000</td></tr>\n",
              "\t<tr><td>445507</td><td>-1</td><td> 4</td><td> 200</td><td>5</td><td>48470000</td></tr>\n",
              "\t<tr><td>445507</td><td>-1</td><td> 4</td><td> 100</td><td>5</td><td>48470000</td></tr>\n",
              "\t<tr><td>445507</td><td>-1</td><td> 4</td><td>  50</td><td>5</td><td>48470000</td></tr>\n",
              "\t<tr><td>445507</td><td>-1</td><td> 4</td><td>  20</td><td>5</td><td>48470000</td></tr>\n",
              "\t<tr><td>445507</td><td>-1</td><td> 4</td><td>  10</td><td>5</td><td>48470000</td></tr>\n",
              "\t<tr><td>445507</td><td>-1</td><td> 6</td><td>1000</td><td>5</td><td>48980000</td></tr>\n",
              "\t<tr><td>445507</td><td>-1</td><td> 6</td><td> 800</td><td>5</td><td>48750000</td></tr>\n",
              "\t<tr><td>445507</td><td>-1</td><td> 6</td><td> 600</td><td>5</td><td>48680000</td></tr>\n",
              "\t<tr><td>445507</td><td>-1</td><td> 6</td><td> 400</td><td>5</td><td>48940000</td></tr>\n",
              "\t<tr><td>445507</td><td>-1</td><td> 6</td><td> 200</td><td>5</td><td>48940000</td></tr>\n",
              "\t<tr><td>445507</td><td>-1</td><td> 6</td><td> 100</td><td>5</td><td>48900000</td></tr>\n",
              "\t<tr><td>445507</td><td>-1</td><td> 6</td><td>  50</td><td>5</td><td>48730000</td></tr>\n",
              "\t<tr><td>445507</td><td>-1</td><td> 6</td><td>  20</td><td>5</td><td>48730000</td></tr>\n",
              "\t<tr><td>445507</td><td>-1</td><td> 6</td><td>  10</td><td>5</td><td>48840000</td></tr>\n",
              "\t<tr><td>445507</td><td>-1</td><td> 8</td><td>1000</td><td>5</td><td>47640000</td></tr>\n",
              "\t<tr><td>445507</td><td>-1</td><td> 8</td><td> 800</td><td>5</td><td>47410000</td></tr>\n",
              "\t<tr><td>445507</td><td>-1</td><td> 8</td><td> 600</td><td>5</td><td>47120000</td></tr>\n",
              "\t<tr><td>445507</td><td>-1</td><td> 8</td><td> 400</td><td>5</td><td>47760000</td></tr>\n",
              "\t<tr><td>445507</td><td>-1</td><td> 8</td><td> 200</td><td>5</td><td>48520000</td></tr>\n",
              "\t<tr><td>445507</td><td>-1</td><td> 8</td><td> 100</td><td>5</td><td>47260000</td></tr>\n",
              "\t<tr><td>445507</td><td>-1</td><td> 8</td><td>  50</td><td>5</td><td>47300000</td></tr>\n",
              "\t<tr><td>445507</td><td>-1</td><td> 8</td><td>  20</td><td>5</td><td>46680000</td></tr>\n",
              "\t<tr><td>445507</td><td>-1</td><td> 8</td><td>  10</td><td>5</td><td>46640000</td></tr>\n",
              "\t<tr><td>445507</td><td>-1</td><td>10</td><td>1000</td><td>5</td><td>48070000</td></tr>\n",
              "\t<tr><td>445507</td><td>-1</td><td>10</td><td> 800</td><td>5</td><td>48650000</td></tr>\n",
              "\t<tr><td>445507</td><td>-1</td><td>10</td><td> 600</td><td>5</td><td>46660000</td></tr>\n",
              "\t<tr><td>⋮</td><td>⋮</td><td>⋮</td><td>⋮</td><td>⋮</td><td>⋮</td></tr>\n",
              "\t<tr><td>445507</td><td>0.05</td><td> 8</td><td>  50</td><td>2</td><td>0</td></tr>\n",
              "\t<tr><td>445507</td><td>0.05</td><td> 8</td><td>  20</td><td>2</td><td>0</td></tr>\n",
              "\t<tr><td>445507</td><td>0.05</td><td> 8</td><td>  10</td><td>2</td><td>0</td></tr>\n",
              "\t<tr><td>445507</td><td>0.05</td><td>10</td><td>1000</td><td>2</td><td>0</td></tr>\n",
              "\t<tr><td>445507</td><td>0.05</td><td>10</td><td> 800</td><td>2</td><td>0</td></tr>\n",
              "\t<tr><td>445507</td><td>0.05</td><td>10</td><td> 600</td><td>2</td><td>0</td></tr>\n",
              "\t<tr><td>445507</td><td>0.05</td><td>10</td><td> 400</td><td>2</td><td>0</td></tr>\n",
              "\t<tr><td>445507</td><td>0.05</td><td>10</td><td> 200</td><td>2</td><td>0</td></tr>\n",
              "\t<tr><td>445507</td><td>0.05</td><td>10</td><td> 100</td><td>2</td><td>0</td></tr>\n",
              "\t<tr><td>445507</td><td>0.05</td><td>10</td><td>  50</td><td>2</td><td>0</td></tr>\n",
              "\t<tr><td>445507</td><td>0.05</td><td>10</td><td>  20</td><td>2</td><td>0</td></tr>\n",
              "\t<tr><td>445507</td><td>0.05</td><td>10</td><td>  10</td><td>2</td><td>0</td></tr>\n",
              "\t<tr><td>445507</td><td>0.05</td><td>12</td><td>1000</td><td>2</td><td>0</td></tr>\n",
              "\t<tr><td>445507</td><td>0.05</td><td>12</td><td> 800</td><td>2</td><td>0</td></tr>\n",
              "\t<tr><td>445507</td><td>0.05</td><td>12</td><td> 600</td><td>2</td><td>0</td></tr>\n",
              "\t<tr><td>445507</td><td>0.05</td><td>12</td><td> 400</td><td>2</td><td>0</td></tr>\n",
              "\t<tr><td>445507</td><td>0.05</td><td>12</td><td> 200</td><td>2</td><td>0</td></tr>\n",
              "\t<tr><td>445507</td><td>0.05</td><td>12</td><td> 100</td><td>2</td><td>0</td></tr>\n",
              "\t<tr><td>445507</td><td>0.05</td><td>12</td><td>  50</td><td>2</td><td>0</td></tr>\n",
              "\t<tr><td>445507</td><td>0.05</td><td>12</td><td>  20</td><td>2</td><td>0</td></tr>\n",
              "\t<tr><td>445507</td><td>0.05</td><td>12</td><td>  10</td><td>2</td><td>0</td></tr>\n",
              "\t<tr><td>445507</td><td>0.05</td><td>14</td><td>1000</td><td>2</td><td>0</td></tr>\n",
              "\t<tr><td>445507</td><td>0.05</td><td>14</td><td> 800</td><td>2</td><td>0</td></tr>\n",
              "\t<tr><td>445507</td><td>0.05</td><td>14</td><td> 600</td><td>2</td><td>0</td></tr>\n",
              "\t<tr><td>445507</td><td>0.05</td><td>14</td><td> 400</td><td>2</td><td>0</td></tr>\n",
              "\t<tr><td>445507</td><td>0.05</td><td>14</td><td> 200</td><td>2</td><td>0</td></tr>\n",
              "\t<tr><td>445507</td><td>0.05</td><td>14</td><td> 100</td><td>2</td><td>0</td></tr>\n",
              "\t<tr><td>445507</td><td>0.05</td><td>14</td><td>  50</td><td>2</td><td>0</td></tr>\n",
              "\t<tr><td>445507</td><td>0.05</td><td>14</td><td>  20</td><td>2</td><td>0</td></tr>\n",
              "\t<tr><td>445507</td><td>0.05</td><td>14</td><td>  10</td><td>2</td><td>0</td></tr>\n",
              "</tbody>\n",
              "</table>\n"
            ],
            "text/markdown": "\nA data.table: 648 × 6\n\n| semilla &lt;int&gt; | cp &lt;dbl&gt; | maxdepth &lt;dbl&gt; | minsplit &lt;dbl&gt; | minbucket &lt;dbl&gt; | ganancia_test &lt;dbl&gt; |\n|---|---|---|---|---|---|\n| 445507 | -1 |  4 | 1000 | 5 | 48730000 |\n| 445507 | -1 |  4 |  800 | 5 | 48500000 |\n| 445507 | -1 |  4 |  600 | 5 | 48470000 |\n| 445507 | -1 |  4 |  400 | 5 | 48470000 |\n| 445507 | -1 |  4 |  200 | 5 | 48470000 |\n| 445507 | -1 |  4 |  100 | 5 | 48470000 |\n| 445507 | -1 |  4 |   50 | 5 | 48470000 |\n| 445507 | -1 |  4 |   20 | 5 | 48470000 |\n| 445507 | -1 |  4 |   10 | 5 | 48470000 |\n| 445507 | -1 |  6 | 1000 | 5 | 48980000 |\n| 445507 | -1 |  6 |  800 | 5 | 48750000 |\n| 445507 | -1 |  6 |  600 | 5 | 48680000 |\n| 445507 | -1 |  6 |  400 | 5 | 48940000 |\n| 445507 | -1 |  6 |  200 | 5 | 48940000 |\n| 445507 | -1 |  6 |  100 | 5 | 48900000 |\n| 445507 | -1 |  6 |   50 | 5 | 48730000 |\n| 445507 | -1 |  6 |   20 | 5 | 48730000 |\n| 445507 | -1 |  6 |   10 | 5 | 48840000 |\n| 445507 | -1 |  8 | 1000 | 5 | 47640000 |\n| 445507 | -1 |  8 |  800 | 5 | 47410000 |\n| 445507 | -1 |  8 |  600 | 5 | 47120000 |\n| 445507 | -1 |  8 |  400 | 5 | 47760000 |\n| 445507 | -1 |  8 |  200 | 5 | 48520000 |\n| 445507 | -1 |  8 |  100 | 5 | 47260000 |\n| 445507 | -1 |  8 |   50 | 5 | 47300000 |\n| 445507 | -1 |  8 |   20 | 5 | 46680000 |\n| 445507 | -1 |  8 |   10 | 5 | 46640000 |\n| 445507 | -1 | 10 | 1000 | 5 | 48070000 |\n| 445507 | -1 | 10 |  800 | 5 | 48650000 |\n| 445507 | -1 | 10 |  600 | 5 | 46660000 |\n| ⋮ | ⋮ | ⋮ | ⋮ | ⋮ | ⋮ |\n| 445507 | 0.05 |  8 |   50 | 2 | 0 |\n| 445507 | 0.05 |  8 |   20 | 2 | 0 |\n| 445507 | 0.05 |  8 |   10 | 2 | 0 |\n| 445507 | 0.05 | 10 | 1000 | 2 | 0 |\n| 445507 | 0.05 | 10 |  800 | 2 | 0 |\n| 445507 | 0.05 | 10 |  600 | 2 | 0 |\n| 445507 | 0.05 | 10 |  400 | 2 | 0 |\n| 445507 | 0.05 | 10 |  200 | 2 | 0 |\n| 445507 | 0.05 | 10 |  100 | 2 | 0 |\n| 445507 | 0.05 | 10 |   50 | 2 | 0 |\n| 445507 | 0.05 | 10 |   20 | 2 | 0 |\n| 445507 | 0.05 | 10 |   10 | 2 | 0 |\n| 445507 | 0.05 | 12 | 1000 | 2 | 0 |\n| 445507 | 0.05 | 12 |  800 | 2 | 0 |\n| 445507 | 0.05 | 12 |  600 | 2 | 0 |\n| 445507 | 0.05 | 12 |  400 | 2 | 0 |\n| 445507 | 0.05 | 12 |  200 | 2 | 0 |\n| 445507 | 0.05 | 12 |  100 | 2 | 0 |\n| 445507 | 0.05 | 12 |   50 | 2 | 0 |\n| 445507 | 0.05 | 12 |   20 | 2 | 0 |\n| 445507 | 0.05 | 12 |   10 | 2 | 0 |\n| 445507 | 0.05 | 14 | 1000 | 2 | 0 |\n| 445507 | 0.05 | 14 |  800 | 2 | 0 |\n| 445507 | 0.05 | 14 |  600 | 2 | 0 |\n| 445507 | 0.05 | 14 |  400 | 2 | 0 |\n| 445507 | 0.05 | 14 |  200 | 2 | 0 |\n| 445507 | 0.05 | 14 |  100 | 2 | 0 |\n| 445507 | 0.05 | 14 |   50 | 2 | 0 |\n| 445507 | 0.05 | 14 |   20 | 2 | 0 |\n| 445507 | 0.05 | 14 |   10 | 2 | 0 |\n\n",
            "text/latex": "A data.table: 648 × 6\n\\begin{tabular}{llllll}\n semilla & cp & maxdepth & minsplit & minbucket & ganancia\\_test\\\\\n <int> & <dbl> & <dbl> & <dbl> & <dbl> & <dbl>\\\\\n\\hline\n\t 445507 & -1 &  4 & 1000 & 5 & 48730000\\\\\n\t 445507 & -1 &  4 &  800 & 5 & 48500000\\\\\n\t 445507 & -1 &  4 &  600 & 5 & 48470000\\\\\n\t 445507 & -1 &  4 &  400 & 5 & 48470000\\\\\n\t 445507 & -1 &  4 &  200 & 5 & 48470000\\\\\n\t 445507 & -1 &  4 &  100 & 5 & 48470000\\\\\n\t 445507 & -1 &  4 &   50 & 5 & 48470000\\\\\n\t 445507 & -1 &  4 &   20 & 5 & 48470000\\\\\n\t 445507 & -1 &  4 &   10 & 5 & 48470000\\\\\n\t 445507 & -1 &  6 & 1000 & 5 & 48980000\\\\\n\t 445507 & -1 &  6 &  800 & 5 & 48750000\\\\\n\t 445507 & -1 &  6 &  600 & 5 & 48680000\\\\\n\t 445507 & -1 &  6 &  400 & 5 & 48940000\\\\\n\t 445507 & -1 &  6 &  200 & 5 & 48940000\\\\\n\t 445507 & -1 &  6 &  100 & 5 & 48900000\\\\\n\t 445507 & -1 &  6 &   50 & 5 & 48730000\\\\\n\t 445507 & -1 &  6 &   20 & 5 & 48730000\\\\\n\t 445507 & -1 &  6 &   10 & 5 & 48840000\\\\\n\t 445507 & -1 &  8 & 1000 & 5 & 47640000\\\\\n\t 445507 & -1 &  8 &  800 & 5 & 47410000\\\\\n\t 445507 & -1 &  8 &  600 & 5 & 47120000\\\\\n\t 445507 & -1 &  8 &  400 & 5 & 47760000\\\\\n\t 445507 & -1 &  8 &  200 & 5 & 48520000\\\\\n\t 445507 & -1 &  8 &  100 & 5 & 47260000\\\\\n\t 445507 & -1 &  8 &   50 & 5 & 47300000\\\\\n\t 445507 & -1 &  8 &   20 & 5 & 46680000\\\\\n\t 445507 & -1 &  8 &   10 & 5 & 46640000\\\\\n\t 445507 & -1 & 10 & 1000 & 5 & 48070000\\\\\n\t 445507 & -1 & 10 &  800 & 5 & 48650000\\\\\n\t 445507 & -1 & 10 &  600 & 5 & 46660000\\\\\n\t ⋮ & ⋮ & ⋮ & ⋮ & ⋮ & ⋮\\\\\n\t 445507 & 0.05 &  8 &   50 & 2 & 0\\\\\n\t 445507 & 0.05 &  8 &   20 & 2 & 0\\\\\n\t 445507 & 0.05 &  8 &   10 & 2 & 0\\\\\n\t 445507 & 0.05 & 10 & 1000 & 2 & 0\\\\\n\t 445507 & 0.05 & 10 &  800 & 2 & 0\\\\\n\t 445507 & 0.05 & 10 &  600 & 2 & 0\\\\\n\t 445507 & 0.05 & 10 &  400 & 2 & 0\\\\\n\t 445507 & 0.05 & 10 &  200 & 2 & 0\\\\\n\t 445507 & 0.05 & 10 &  100 & 2 & 0\\\\\n\t 445507 & 0.05 & 10 &   50 & 2 & 0\\\\\n\t 445507 & 0.05 & 10 &   20 & 2 & 0\\\\\n\t 445507 & 0.05 & 10 &   10 & 2 & 0\\\\\n\t 445507 & 0.05 & 12 & 1000 & 2 & 0\\\\\n\t 445507 & 0.05 & 12 &  800 & 2 & 0\\\\\n\t 445507 & 0.05 & 12 &  600 & 2 & 0\\\\\n\t 445507 & 0.05 & 12 &  400 & 2 & 0\\\\\n\t 445507 & 0.05 & 12 &  200 & 2 & 0\\\\\n\t 445507 & 0.05 & 12 &  100 & 2 & 0\\\\\n\t 445507 & 0.05 & 12 &   50 & 2 & 0\\\\\n\t 445507 & 0.05 & 12 &   20 & 2 & 0\\\\\n\t 445507 & 0.05 & 12 &   10 & 2 & 0\\\\\n\t 445507 & 0.05 & 14 & 1000 & 2 & 0\\\\\n\t 445507 & 0.05 & 14 &  800 & 2 & 0\\\\\n\t 445507 & 0.05 & 14 &  600 & 2 & 0\\\\\n\t 445507 & 0.05 & 14 &  400 & 2 & 0\\\\\n\t 445507 & 0.05 & 14 &  200 & 2 & 0\\\\\n\t 445507 & 0.05 & 14 &  100 & 2 & 0\\\\\n\t 445507 & 0.05 & 14 &   50 & 2 & 0\\\\\n\t 445507 & 0.05 & 14 &   20 & 2 & 0\\\\\n\t 445507 & 0.05 & 14 &   10 & 2 & 0\\\\\n\\end{tabular}\n",
            "text/plain": [
              "    semilla cp   maxdepth minsplit minbucket ganancia_test\n",
              "1   445507  -1    4       1000     5         48730000     \n",
              "2   445507  -1    4        800     5         48500000     \n",
              "3   445507  -1    4        600     5         48470000     \n",
              "4   445507  -1    4        400     5         48470000     \n",
              "5   445507  -1    4        200     5         48470000     \n",
              "6   445507  -1    4        100     5         48470000     \n",
              "7   445507  -1    4         50     5         48470000     \n",
              "8   445507  -1    4         20     5         48470000     \n",
              "9   445507  -1    4         10     5         48470000     \n",
              "10  445507  -1    6       1000     5         48980000     \n",
              "11  445507  -1    6        800     5         48750000     \n",
              "12  445507  -1    6        600     5         48680000     \n",
              "13  445507  -1    6        400     5         48940000     \n",
              "14  445507  -1    6        200     5         48940000     \n",
              "15  445507  -1    6        100     5         48900000     \n",
              "16  445507  -1    6         50     5         48730000     \n",
              "17  445507  -1    6         20     5         48730000     \n",
              "18  445507  -1    6         10     5         48840000     \n",
              "19  445507  -1    8       1000     5         47640000     \n",
              "20  445507  -1    8        800     5         47410000     \n",
              "21  445507  -1    8        600     5         47120000     \n",
              "22  445507  -1    8        400     5         47760000     \n",
              "23  445507  -1    8        200     5         48520000     \n",
              "24  445507  -1    8        100     5         47260000     \n",
              "25  445507  -1    8         50     5         47300000     \n",
              "26  445507  -1    8         20     5         46680000     \n",
              "27  445507  -1    8         10     5         46640000     \n",
              "28  445507  -1   10       1000     5         48070000     \n",
              "29  445507  -1   10        800     5         48650000     \n",
              "30  445507  -1   10        600     5         46660000     \n",
              "⋮   ⋮       ⋮    ⋮        ⋮        ⋮         ⋮            \n",
              "619 445507  0.05  8         50     2         0            \n",
              "620 445507  0.05  8         20     2         0            \n",
              "621 445507  0.05  8         10     2         0            \n",
              "622 445507  0.05 10       1000     2         0            \n",
              "623 445507  0.05 10        800     2         0            \n",
              "624 445507  0.05 10        600     2         0            \n",
              "625 445507  0.05 10        400     2         0            \n",
              "626 445507  0.05 10        200     2         0            \n",
              "627 445507  0.05 10        100     2         0            \n",
              "628 445507  0.05 10         50     2         0            \n",
              "629 445507  0.05 10         20     2         0            \n",
              "630 445507  0.05 10         10     2         0            \n",
              "631 445507  0.05 12       1000     2         0            \n",
              "632 445507  0.05 12        800     2         0            \n",
              "633 445507  0.05 12        600     2         0            \n",
              "634 445507  0.05 12        400     2         0            \n",
              "635 445507  0.05 12        200     2         0            \n",
              "636 445507  0.05 12        100     2         0            \n",
              "637 445507  0.05 12         50     2         0            \n",
              "638 445507  0.05 12         20     2         0            \n",
              "639 445507  0.05 12         10     2         0            \n",
              "640 445507  0.05 14       1000     2         0            \n",
              "641 445507  0.05 14        800     2         0            \n",
              "642 445507  0.05 14        600     2         0            \n",
              "643 445507  0.05 14        400     2         0            \n",
              "644 445507  0.05 14        200     2         0            \n",
              "645 445507  0.05 14        100     2         0            \n",
              "646 445507  0.05 14         50     2         0            \n",
              "647 445507  0.05 14         20     2         0            \n",
              "648 445507  0.05 14         10     2         0            "
            ]
          },
          "metadata": {}
        }
      ]
    },
    {
      "cell_type": "code",
      "source": [
        "# genero y grabo el resumen\n",
        "tb_grid_search <- tb_grid_search_detalle[,\n",
        "  list( \"ganancia_mean\" = mean(ganancia_test),\n",
        "    \"qty\" = .N ),\n",
        "  list( cp, maxdepth, minsplit, minbucket )\n",
        "]\n"
      ],
      "metadata": {
        "id": "DjCxtx8bIsgl"
      },
      "execution_count": 15,
      "outputs": []
    },
    {
      "cell_type": "code",
      "source": [
        "# ordeno descendente por ganancia\n",
        "setorder( tb_grid_search, -ganancia_mean )\n"
      ],
      "metadata": {
        "id": "LU29UhL1Ivg5"
      },
      "execution_count": 16,
      "outputs": []
    },
    {
      "cell_type": "code",
      "source": [
        "# veo los 10 mejores hiperparámetros\n",
        "tb_grid_search[1:10]"
      ],
      "metadata": {
        "id": "g-EjGY7aIyWL",
        "outputId": "ef24a287-5055-42f3-8530-ae9adbda6240",
        "colab": {
          "base_uri": "https://localhost:8080/",
          "height": 412
        }
      },
      "execution_count": 17,
      "outputs": [
        {
          "output_type": "display_data",
          "data": {
            "text/html": [
              "<table class=\"dataframe\">\n",
              "<caption>A data.table: 10 × 6</caption>\n",
              "<thead>\n",
              "\t<tr><th scope=col>cp</th><th scope=col>maxdepth</th><th scope=col>minsplit</th><th scope=col>minbucket</th><th scope=col>ganancia_mean</th><th scope=col>qty</th></tr>\n",
              "\t<tr><th scope=col>&lt;dbl&gt;</th><th scope=col>&lt;dbl&gt;</th><th scope=col>&lt;dbl&gt;</th><th scope=col>&lt;dbl&gt;</th><th scope=col>&lt;dbl&gt;</th><th scope=col>&lt;int&gt;</th></tr>\n",
              "</thead>\n",
              "<tbody>\n",
              "\t<tr><td>-1</td><td>12</td><td> 200</td><td>5</td><td>50490000</td><td>1</td></tr>\n",
              "\t<tr><td>-1</td><td> 8</td><td>1000</td><td>2</td><td>50330000</td><td>1</td></tr>\n",
              "\t<tr><td>-1</td><td>12</td><td> 400</td><td>5</td><td>50120000</td><td>1</td></tr>\n",
              "\t<tr><td>-1</td><td> 8</td><td> 800</td><td>2</td><td>50100000</td><td>1</td></tr>\n",
              "\t<tr><td>-1</td><td> 8</td><td> 600</td><td>2</td><td>49810000</td><td>1</td></tr>\n",
              "\t<tr><td>-1</td><td>10</td><td> 200</td><td>3</td><td>49690000</td><td>1</td></tr>\n",
              "\t<tr><td>-1</td><td>12</td><td> 200</td><td>3</td><td>49630000</td><td>1</td></tr>\n",
              "\t<tr><td>-1</td><td> 8</td><td> 400</td><td>2</td><td>49620000</td><td>1</td></tr>\n",
              "\t<tr><td>-1</td><td> 8</td><td> 200</td><td>2</td><td>49600000</td><td>1</td></tr>\n",
              "\t<tr><td>-1</td><td>10</td><td> 800</td><td>3</td><td>49470000</td><td>1</td></tr>\n",
              "</tbody>\n",
              "</table>\n"
            ],
            "text/markdown": "\nA data.table: 10 × 6\n\n| cp &lt;dbl&gt; | maxdepth &lt;dbl&gt; | minsplit &lt;dbl&gt; | minbucket &lt;dbl&gt; | ganancia_mean &lt;dbl&gt; | qty &lt;int&gt; |\n|---|---|---|---|---|---|\n| -1 | 12 |  200 | 5 | 50490000 | 1 |\n| -1 |  8 | 1000 | 2 | 50330000 | 1 |\n| -1 | 12 |  400 | 5 | 50120000 | 1 |\n| -1 |  8 |  800 | 2 | 50100000 | 1 |\n| -1 |  8 |  600 | 2 | 49810000 | 1 |\n| -1 | 10 |  200 | 3 | 49690000 | 1 |\n| -1 | 12 |  200 | 3 | 49630000 | 1 |\n| -1 |  8 |  400 | 2 | 49620000 | 1 |\n| -1 |  8 |  200 | 2 | 49600000 | 1 |\n| -1 | 10 |  800 | 3 | 49470000 | 1 |\n\n",
            "text/latex": "A data.table: 10 × 6\n\\begin{tabular}{llllll}\n cp & maxdepth & minsplit & minbucket & ganancia\\_mean & qty\\\\\n <dbl> & <dbl> & <dbl> & <dbl> & <dbl> & <int>\\\\\n\\hline\n\t -1 & 12 &  200 & 5 & 50490000 & 1\\\\\n\t -1 &  8 & 1000 & 2 & 50330000 & 1\\\\\n\t -1 & 12 &  400 & 5 & 50120000 & 1\\\\\n\t -1 &  8 &  800 & 2 & 50100000 & 1\\\\\n\t -1 &  8 &  600 & 2 & 49810000 & 1\\\\\n\t -1 & 10 &  200 & 3 & 49690000 & 1\\\\\n\t -1 & 12 &  200 & 3 & 49630000 & 1\\\\\n\t -1 &  8 &  400 & 2 & 49620000 & 1\\\\\n\t -1 &  8 &  200 & 2 & 49600000 & 1\\\\\n\t -1 & 10 &  800 & 3 & 49470000 & 1\\\\\n\\end{tabular}\n",
            "text/plain": [
              "   cp maxdepth minsplit minbucket ganancia_mean qty\n",
              "1  -1 12        200     5         50490000      1  \n",
              "2  -1  8       1000     2         50330000      1  \n",
              "3  -1 12        400     5         50120000      1  \n",
              "4  -1  8        800     2         50100000      1  \n",
              "5  -1  8        600     2         49810000      1  \n",
              "6  -1 10        200     3         49690000      1  \n",
              "7  -1 12        200     3         49630000      1  \n",
              "8  -1  8        400     2         49620000      1  \n",
              "9  -1  8        200     2         49600000      1  \n",
              "10 -1 10        800     3         49470000      1  "
            ]
          },
          "metadata": {}
        }
      ]
    },
    {
      "cell_type": "code",
      "source": [
        "# genero un id a la tabla\n",
        "tb_grid_search[, id := .I ]\n",
        "\n",
        "fwrite( tb_grid_search,\n",
        "  file = \"gridsearch.txt\",\n",
        "  sep = \"\\t\"\n",
        ")\n"
      ],
      "metadata": {
        "id": "K3S-I2PTI5ZE"
      },
      "execution_count": 18,
      "outputs": []
    },
    {
      "cell_type": "markdown",
      "source": [
        "# 4.  Análisis de resultados de Grid Search"
      ],
      "metadata": {
        "id": "1rYHk1YkI_9k"
      }
    },
    {
      "cell_type": "markdown",
      "source": [
        "La salida de la corrida anterior queda en ~/buckets/b1/exp/HT2900  que corresponde a su Google Drive\n",
        "<br>HT significa Hyperparameter Tuning\n",
        "<br>El Grid Search es un método de fuerza bruta de un altísimo costo computacional.\n",
        "<br>Queremos ver si es posible crear un algoritmo de optimización de hiperparámetros que se ahorre recorrer ciertas porciones muy malas del espacio de búsqueda. Algo del estilo “cada vez que pruebo una combinación de hiperparámetros donde  cp > 1 , la ganancia es muy mala, con lo cual ni vale la pena perder el tiempo explorando en esa region”\n"
      ],
      "metadata": {
        "id": "ZTJgPhMWJHTk"
      }
    },
    {
      "cell_type": "markdown",
      "source": [
        "<br>Levante el archivo de salida gridsearch.txt  a una planilla tipo Excel y analícelo detenidamente\n",
        "<br>Ordene por ganancia_mean descendente\n",
        "<br>\n",
        "<br>El de mayor ganancia_mean  decimos que es el primero del ranking\n",
        "En Zulip, correspondiente channel  #Tarea Hogar 02 , topic Analisis Grid Search   intente contestar estas preguntas:\n",
        "\n",
        "* ¿Qué combinaciones de hiperparámetros poseen una ganancia muy buena?\n",
        "* ¿Hay algun hiperparámetro que para cierto valor siempre genera una ganancia muy mala, a independientemente de lo que valgan los otros hiperparámetros ?\n",
        "* ¿Que combinaciones de hiperparámetros es pésima y hubiera sido bueno ahorrarse esas corridas ?\n",
        "\n",
        "( tiempo estimado 30 minutos, dificultad media )"
      ],
      "metadata": {
        "id": "IaVgMu4tPwyB"
      }
    }
  ]
}